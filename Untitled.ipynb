{
 "cells": [
  {
   "cell_type": "code",
   "execution_count": null,
   "id": "67935911-4fd2-486a-9c4a-c51e4124bdff",
   "metadata": {},
   "outputs": [],
   "source": []
  }
 ],
 "metadata": {
  "kernelspec": {
   "display_name": "",
   "name": ""
  },
  "language_info": {
   "name": ""
  }
 },
 "nbformat": 4,
 "nbformat_minor": 5
}
